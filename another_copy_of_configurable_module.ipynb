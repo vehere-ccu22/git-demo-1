{
  "nbformat": 4,
  "nbformat_minor": 0,
  "metadata": {
    "colab": {
      "provenance": [],
      "include_colab_link": true
    },
    "kernelspec": {
      "name": "python3",
      "display_name": "Python 3"
    },
    "language_info": {
      "name": "python"
    }
  },
  "cells": [
    {
      "cell_type": "markdown",
      "metadata": {
        "id": "view-in-github",
        "colab_type": "text"
      },
      "source": [
        "<a href=\"https://colab.research.google.com/github/vehere-ccu22/git-demo-1/blob/main/another_copy_of_configurable_module.ipynb\" target=\"_parent\"><img src=\"https://colab.research.google.com/assets/colab-badge.svg\" alt=\"Open In Colab\"/></a>"
      ]
    },
    {
      "cell_type": "code",
      "source": [
        "#Vertual Envirment\n",
        "#!pip install virtualenv\n",
        "#!virtualenv myenv\n",
        "\n",
        "!apt install python3.10-venv\n",
        "!python -m venv myenv2\n",
        "!source myenv2/bin/activate\n",
        "!\n"
      ],
      "metadata": {
        "id": "zrhiM5zMO4dc",
        "colab": {
          "base_uri": "https://localhost:8080/"
        },
        "outputId": "8c0f159b-b392-489b-b2e3-03feba7a5deb"
      },
      "execution_count": null,
      "outputs": [
        {
          "output_type": "stream",
          "name": "stdout",
          "text": [
            "Reading package lists... Done\n",
            "Building dependency tree... Done\n",
            "Reading state information... Done\n",
            "python3.10-venv is already the newest version (3.10.12-1~22.04.5).\n",
            "0 upgraded, 0 newly installed, 0 to remove and 45 not upgraded.\n"
          ]
        }
      ]
    },
    {
      "cell_type": "code",
      "source": [
        "#!pip install Flask==2.0.3\n",
        "#!pip install pandas==1.5.3\n",
        "import pandas\n",
        "pandas.__version__"
      ],
      "metadata": {
        "colab": {
          "base_uri": "https://localhost:8080/",
          "height": 35
        },
        "id": "CarznGyaXCVf",
        "outputId": "23a196ea-28bd-4548-9bee-d4028bd31408"
      },
      "execution_count": null,
      "outputs": [
        {
          "output_type": "execute_result",
          "data": {
            "text/plain": [
              "'1.5.3'"
            ],
            "application/vnd.google.colaboratory.intrinsic+json": {
              "type": "string"
            }
          },
          "metadata": {},
          "execution_count": 1
        }
      ]
    },
    {
      "cell_type": "code",
      "source": [
        "import os\n",
        "os.kill(os.getpid(), 9)"
      ],
      "metadata": {
        "id": "GFzU6IswVjxL"
      },
      "execution_count": null,
      "outputs": []
    },
    {
      "cell_type": "code",
      "source": [
        "import os\n",
        "os.kill(os.getpid(), 9)"
      ],
      "metadata": {
        "id": "MvvDQQWja224"
      },
      "execution_count": null,
      "outputs": []
    },
    {
      "cell_type": "code",
      "source": [
        "from google.colab import drive\n",
        "drive.mount('/content/drive')"
      ],
      "metadata": {
        "id": "LqAm44QgVPe-"
      },
      "execution_count": null,
      "outputs": []
    },
    {
      "cell_type": "code",
      "execution_count": null,
      "metadata": {
        "colab": {
          "base_uri": "https://localhost:8080/"
        },
        "id": "m2rEGTvI57CA",
        "outputId": "f8d8d8c7-19a8-4533-ac70-5db237a8bdf6"
      },
      "outputs": [
        {
          "output_type": "stream",
          "name": "stdout",
          "text": [
            "Overwriting config.py\n"
          ]
        }
      ],
      "source": [
        "#create a configurable file\n",
        "%%writefile config.py\n",
        "\n",
        "class Config:\n",
        "  DEBUG = False\n",
        "  TESTING = False\n",
        "  DATABASE_URI = 'sqlite:///:memory:'\n",
        "  LOG_LEVEL = 'DEBUG'\n",
        "  LOG_FILE_PATH = 'app.log'\n",
        "  SECRET_KEY = 'mysecretkey'\n",
        "  SECRET_COOKIES = 'mysecretcookies'\n",
        "  API_ENDPOINT = 'https://api.example.com'\n",
        "\n",
        "class ProductionConfig(Config):\n",
        "  DATABASE_URI = 'mysql://user@localhost/foo'\n",
        "  LOG_LEVEL = 'INFO'\n",
        "  LOG_FILE_PATH = 'app.log'\n",
        "  SECRET_KEY = 'mysecretkey-prod'\n",
        "  SECRET_COOKIES = 'mysecretcookies'\n",
        "  API_ENDPOINT = 'https://api.example.com'\n",
        "\n",
        "class DevelopmentConfig(Config):\n",
        "  DEBUG = True\n",
        "  LOG_LEVEL = 'INFO'\n",
        "  LOG_FILE_PATH = 'app.log'\n",
        "  SECRET_KEY = 'mysecretkey-dev'\n",
        "  SECRET_COOKIES = 'mysecretcookies'\n",
        "  API_ENDPOINT = 'https://api.example.com'\n",
        "\n",
        "class TestingConfig(Config):\n",
        "  TESTING = True\n",
        "  LOG_LEVEL = 'INFO'\n",
        "  LOG_FILE_PATH = 'app.log'\n",
        "  SECRET_KEY = 'mysecretkey-test'\n",
        "  SECRET_COOKIES = 'mysecretcookies'\n",
        "  API_ENDPOINT = 'https://api.example.com'\n"
      ]
    },
    {
      "cell_type": "markdown",
      "source": [
        "# New Section"
      ],
      "metadata": {
        "id": "EwLYyrKUPn22"
      }
    },
    {
      "cell_type": "code",
      "source": [
        "# main application file-->\n",
        "\n",
        "# Create the main application file named app.py\n",
        "%%writefile app.py\n",
        "\n",
        "import os\n",
        "from config import DevelopmentConfig, ProductionConfig, TestingConfig\n",
        "\n",
        "def run_app():\n",
        "    env = os.getenv('ENV', 'development')\n",
        "\n",
        "    if env == 'development':\n",
        "        config = DevelopmentConfig()\n",
        "    elif env == 'production':\n",
        "        config = ProductionConfig()\n",
        "    elif env == 'testing':\n",
        "        config = TestingConfig()\n",
        "    else:\n",
        "        raise ValueError(\"Invalid environment name\")\n",
        "\n",
        "    print(f\"Running in {env} environment\")\n",
        "    print(f\"DEBUG: {config.DEBUG}\")\n",
        "    print(f\"TESTING: {config.TESTING}\")\n",
        "    print(f\"DATABASE_URI: {config.DATABASE_URI}\")\n",
        "    print(f\"LOG_LEVEL: {config.LOG_LEVEL}\")\n",
        "    print(f\"LOG_FILE_PATH: {config.LOG_FILE_PATH}\")\n",
        "    print(f\"SECRET_KEY: {config.SECRET_KEY}\")\n",
        "    print(f\"SECRET_COOKIES: {config.SECRET_COOKIES}\")\n",
        "    print(f\"API_ENDPOINT: {config.API_ENDPOINT}\")\n",
        "\n",
        "if __name__ == \"__main__\":\n",
        "    run_app()\n"
      ],
      "metadata": {
        "colab": {
          "base_uri": "https://localhost:8080/"
        },
        "id": "bpVOhsgw85FN",
        "outputId": "309fe6bf-5fc6-4414-9c81-645751e47140"
      },
      "execution_count": null,
      "outputs": [
        {
          "output_type": "stream",
          "name": "stdout",
          "text": [
            "Overwriting app.py\n"
          ]
        }
      ]
    },
    {
      "cell_type": "code",
      "source": [
        "# Set environment variable to production and run the app\n",
        "import os\n",
        "os.environ['ENV'] = 'production'\n",
        "!python app.py\n",
        "\n"
      ],
      "metadata": {
        "id": "ZJrQKyZX9cEk",
        "colab": {
          "base_uri": "https://localhost:8080/"
        },
        "outputId": "10e61f34-db70-4177-c2eb-4b226e272ba0"
      },
      "execution_count": null,
      "outputs": [
        {
          "output_type": "stream",
          "name": "stdout",
          "text": [
            "Running in production environment\n",
            "DEBUG: False\n",
            "TESTING: False\n",
            "DATABASE_URI: mysql://user@localhost/foo\n",
            "LOG_LEVEL: INFO\n",
            "LOG_FILE_PATH: app.log\n",
            "SECRET_KEY: mysecretkey-prod\n",
            "SECRET_COOKIES: mysecretcookies\n",
            "API_ENDPOINT: https://api.example.com\n"
          ]
        }
      ]
    },
    {
      "cell_type": "code",
      "source": [
        "Task: Add new configurations to the existing config.py file to handle the following:\n",
        "\n",
        "Logging settings: Add LOG_LEVEL and LOG_FILE_PATH for different environments.\n",
        "Security settings: Add SECRET_KEY and SECURE_COOKIES to manage security across different environments.\n",
        "Environment-specific API endpoint: Add API_ENDPOINT that changes depending on the environment (e.g., different URLs for development, testing, and production).\n",
        "\n",
        "\n",
        "# 09:33--> 09:47--working break"
      ],
      "metadata": {
        "id": "wg4COvWJBD-N",
        "colab": {
          "base_uri": "https://localhost:8080/",
          "height": 106
        },
        "outputId": "88b50884-9293-4340-f4fa-5558bdc971c5"
      },
      "execution_count": null,
      "outputs": [
        {
          "output_type": "error",
          "ename": "SyntaxError",
          "evalue": "invalid syntax (<ipython-input-12-e19d8869f435>, line 1)",
          "traceback": [
            "\u001b[0;36m  File \u001b[0;32m\"<ipython-input-12-e19d8869f435>\"\u001b[0;36m, line \u001b[0;32m1\u001b[0m\n\u001b[0;31m    Task: Add new configurations to the existing config.py file to handle the following:\u001b[0m\n\u001b[0m              ^\u001b[0m\n\u001b[0;31mSyntaxError\u001b[0m\u001b[0;31m:\u001b[0m invalid syntax\n"
          ]
        }
      ]
    },
    {
      "cell_type": "code",
      "source": [
        "# config.yaml\n",
        "%%writefile config.yaml\n",
        "# General settings\n",
        "app:\n",
        "  name: \"mlops-app\"\n",
        "  version: \"1.0.0\"\n",
        "  environment: \"production\"  # Options: development, testing, production\n",
        "\n",
        "# Data settings\n",
        "data:\n",
        "  raw_data_path: \"s3://mybucket/raw-data/\"\n",
        "  processed_data_path: \"s3://mybucket/processed-data/\"\n",
        "  batch_size: 64\n",
        "  shuffle: true\n",
        "  validation_split: 0.2\n",
        "\n",
        "# Model settings\n",
        "model:\n",
        "  type: \"DecisionTree\"\n",
        "  parameters:\n",
        "    n_estimators: 100\n",
        "    max_depth: 10\n",
        "    random_state: 42\n",
        "\n",
        "  # Path to save the trained model\n",
        "  save_path: \"s3://mybucket/models/random_forest.pkl\"\n",
        "\n",
        "# Training settings\n",
        "training:\n",
        "  epochs: 50\n",
        "  learning_rate: 0.001\n",
        "  optimizer: \"adam\"\n",
        "  loss_function: \"cross_entropy\"\n",
        "  early_stopping:\n",
        "    patience: 10\n",
        "    min_delta: 0.001\n",
        "\n",
        "# Evaluation settings\n",
        "evaluation:\n",
        "  metrics:\n",
        "    - \"accuracy\"\n",
        "    - \"precision\"\n",
        "    - \"recall\"\n",
        "  test_data_path: \"s3://mybucket/test-data/\"\n",
        "\n",
        "# Logging settings\n",
        "logging:\n",
        "  level: \"INFO\"  # Options: DEBUG, INFO, WARNING, ERROR, CRITICAL\n",
        "  log_file_path: \"logs/training.log\"\n",
        "\n",
        "# Deployment settings\n",
        "deployment:\n",
        "  model_registry_url: \"http://model-registry.internal/api/v1/models\"\n",
        "  deployment_type: \"docker\"  # Options: docker, kubernetes\n",
        "  docker:\n",
        "    image_name: \"mlops-app-image\"\n",
        "    container_name: \"mlops-app-container\"\n",
        "    ports:\n",
        "      - \"5000:5000\"\n",
        "  kubernetes:\n",
        "    namespace: \"production\"\n",
        "    replicas: 3\n",
        "    resources:\n",
        "      limits:\n",
        "        cpu: \"2\"\n",
        "        memory: \"4Gi\"\n",
        "      requests:\n",
        "        cpu: \"1\"\n",
        "        memory: \"2Gi\"\n",
        "\n",
        "# Monitoring settings\n",
        "monitoring:\n",
        "  enable: true\n",
        "  monitoring_service_url: \"http://monitoring-service.internal/api/v1/metrics\"\n",
        "  alerting_thresholds:\n",
        "    accuracy: 0.85\n",
        "    latency: 200  # in milliseconds\n",
        "\n",
        "# Security settings\n",
        "security:\n",
        "  use_https: true\n",
        "  certificate_path: \"/etc/ssl/certs/mycert.pem\"\n",
        "  key_path: \"/etc/ssl/private/mykey.pem\"\n",
        "  environment_variables:\n",
        "    - name: \"AWS_ACCESS_KEY_ID\"\n",
        "      value: \"your-aws-access-key\"\n",
        "    - name: \"AWS_SECRET_ACCESS_KEY\"\n",
        "      value: \"your-aws-secret-key\"\n"
      ],
      "metadata": {
        "colab": {
          "base_uri": "https://localhost:8080/"
        },
        "id": "T3dcQNa3GOek",
        "outputId": "8f83587b-6fe5-44a5-d392-6245ac690a8e"
      },
      "execution_count": null,
      "outputs": [
        {
          "output_type": "stream",
          "name": "stdout",
          "text": [
            "Overwriting config.yaml\n"
          ]
        }
      ]
    },
    {
      "cell_type": "code",
      "source": [
        "import yaml\n",
        "\n",
        "with open(\"config.yaml\", 'r') as config_file:\n",
        "    config = yaml.safe_load(config_file)\n",
        "\n",
        "print(config['model']['type'])  # Outputs: RandomForest\n"
      ],
      "metadata": {
        "colab": {
          "base_uri": "https://localhost:8080/"
        },
        "id": "XuHIh0soHMqT",
        "outputId": "828e99de-30ad-4104-e7ab-758a508746c5"
      },
      "execution_count": null,
      "outputs": [
        {
          "output_type": "stream",
          "name": "stdout",
          "text": [
            "DecisionTree\n"
          ]
        }
      ]
    },
    {
      "cell_type": "code",
      "source": [
        "# requiremnts file ?"
      ],
      "metadata": {
        "id": "anIN6L4CISFi"
      },
      "execution_count": null,
      "outputs": []
    },
    {
      "cell_type": "code",
      "source": [
        "# whenver you create a machine learning model. you will require all the necessary packages/librariries\n",
        "\n",
        "#in order to development, testing or to production\n",
        "\n",
        "# development on pandas\n",
        "\n",
        "# system--> production code--> pandas error--> either the pandas --.is not installed\n",
        "# version of pandas is different\n",
        "\n",
        "# developer-->"
      ],
      "metadata": {
        "id": "-5Zq8o77JxRZ"
      },
      "execution_count": null,
      "outputs": []
    },
    {
      "cell_type": "code",
      "source": [
        "!touch requirements.txt"
      ],
      "metadata": {
        "id": "4wREV9V-KlJy"
      },
      "execution_count": null,
      "outputs": []
    },
    {
      "cell_type": "code",
      "source": [
        "!pip install pandas numpy matplotlib"
      ],
      "metadata": {
        "colab": {
          "base_uri": "https://localhost:8080/"
        },
        "id": "_fCwAn50LN7r",
        "outputId": "f43aebf2-110a-4709-81b2-8a6521f5e685"
      },
      "execution_count": null,
      "outputs": [
        {
          "output_type": "stream",
          "name": "stdout",
          "text": [
            "Requirement already satisfied: pandas in /usr/local/lib/python3.10/dist-packages (2.1.4)\n",
            "Requirement already satisfied: numpy in /usr/local/lib/python3.10/dist-packages (1.26.4)\n",
            "Requirement already satisfied: matplotlib in /usr/local/lib/python3.10/dist-packages (3.7.1)\n",
            "Requirement already satisfied: python-dateutil>=2.8.2 in /usr/local/lib/python3.10/dist-packages (from pandas) (2.8.2)\n",
            "Requirement already satisfied: pytz>=2020.1 in /usr/local/lib/python3.10/dist-packages (from pandas) (2024.1)\n",
            "Requirement already satisfied: tzdata>=2022.1 in /usr/local/lib/python3.10/dist-packages (from pandas) (2024.1)\n",
            "Requirement already satisfied: contourpy>=1.0.1 in /usr/local/lib/python3.10/dist-packages (from matplotlib) (1.2.1)\n",
            "Requirement already satisfied: cycler>=0.10 in /usr/local/lib/python3.10/dist-packages (from matplotlib) (0.12.1)\n",
            "Requirement already satisfied: fonttools>=4.22.0 in /usr/local/lib/python3.10/dist-packages (from matplotlib) (4.53.1)\n",
            "Requirement already satisfied: kiwisolver>=1.0.1 in /usr/local/lib/python3.10/dist-packages (from matplotlib) (1.4.5)\n",
            "Requirement already satisfied: packaging>=20.0 in /usr/local/lib/python3.10/dist-packages (from matplotlib) (24.1)\n",
            "Requirement already satisfied: pillow>=6.2.0 in /usr/local/lib/python3.10/dist-packages (from matplotlib) (9.4.0)\n",
            "Requirement already satisfied: pyparsing>=2.3.1 in /usr/local/lib/python3.10/dist-packages (from matplotlib) (3.1.2)\n",
            "Requirement already satisfied: six>=1.5 in /usr/local/lib/python3.10/dist-packages (from python-dateutil>=2.8.2->pandas) (1.16.0)\n"
          ]
        }
      ]
    },
    {
      "cell_type": "code",
      "source": [
        "!pip install -r requirements.txt"
      ],
      "metadata": {
        "id": "pb2pUk3kK3xu"
      },
      "execution_count": null,
      "outputs": []
    },
    {
      "cell_type": "code",
      "source": [
        "# third way to create dependencies\n",
        "\n",
        "# Generate the requirements.txt file automatically\n",
        "!pip freeze > requirements1.txt"
      ],
      "metadata": {
        "id": "BN2-nbY8MNpo"
      },
      "execution_count": null,
      "outputs": []
    },
    {
      "cell_type": "code",
      "source": [
        "#requirement file which contains requests  = 2.26 SQLAlchemy --> 1.4.22\n",
        "\n",
        "# i want to install it\n",
        "\n",
        "# requirments --> install me -->\n",
        "\n",
        "#10:22--> 10:25\n",
        "\n",
        "# Manually add dependencies to requirements.txt\n",
        "%%writefile requirements3.txt\n",
        "requests==2.26.0\n",
        "SQLAlchemy==1.4.22\n"
      ],
      "metadata": {
        "colab": {
          "base_uri": "https://localhost:8080/"
        },
        "id": "tOTCPyDAMyaZ",
        "outputId": "2ddd9c37-4661-43b2-ff22-74b5d3fa7452"
      },
      "execution_count": null,
      "outputs": [
        {
          "output_type": "stream",
          "name": "stdout",
          "text": [
            "Overwriting requirements3.txt\n"
          ]
        }
      ]
    },
    {
      "cell_type": "code",
      "source": [
        "!pip install -r requirements3.txt"
      ],
      "metadata": {
        "id": "EW-mRa-sOWxl"
      },
      "execution_count": null,
      "outputs": []
    }
  ]
}